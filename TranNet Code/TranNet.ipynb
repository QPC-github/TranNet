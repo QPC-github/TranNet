{
 "cells": [
  {
   "cell_type": "code",
   "execution_count": 39,
   "metadata": {},
   "outputs": [],
   "source": [
    "import math\n",
    "import numpy as np\n",
    "import pandas as pd\n",
    "from sklearn.linear_model import Lasso\n",
    "def Fun(X, y, w): # Compute the objective function value and return the fitness error as a positive scalar\n",
    "    return np.linalg.norm(X.dot(w)-y)**2\n",
    "\n",
    "def Grad(X, y, w): # Compute the gradient of the objective function and return a vector of the descent direction\n",
    "    return 2*X.T.dot(X.dot(w)-y)\n",
    "\n",
    "def Alpha(X, y, w, g): # Bisection search for choosing optimal size of step and return a positive scalar value\n",
    "    a=0; b=1; gr = (math.sqrt(5) + 1) / 2\n",
    "    c=b-(b-a)/gr; d =a+(b-a)/gr\n",
    "    while abs(b - a) > 1e-15:\n",
    "        if Fun(X, y, w-c*g) < Fun(X, y, w-d*g):\n",
    "            b=d\n",
    "        else:\n",
    "            a=c\n",
    "        c=b-(b-a)/gr; d = a + (b - a) / gr\n",
    "    return (b + a) / 2\n",
    "\n",
    "def Project(v, up): # Project a vector (current solution) onto l_1 norm space, and return a unit-norm vector\n",
    "    n, = v.shape  \n",
    "    s = np.abs(v)\n",
    "    if s.sum() <= up:\n",
    "        return v\n",
    "    else:\n",
    "        u = np.sort(s)[::-1]\n",
    "        cSum = np.cumsum(u)\n",
    "        rho = np.nonzero(u * np.arange(1, n+1) > (cSum - up))[0][-1]\n",
    "        theta = float(cSum[rho] - up) / (rho+1)\n",
    "        x = (s - theta).clip(min=0)\n",
    "        x *= np.sign(v)\n",
    "    return x\n",
    "def InitialSol(X, y): # Initialize starting point with LASSO regression and return a initial point close to optimal\n",
    "    dense_lasso = Lasso(alpha=0.1, fit_intercept=False, max_iter=100, tol=1e-5)\n",
    "    dense_lasso.fit(X, y)\n",
    "    return dense_lasso.coef_\n",
    "\n",
    "# Gradient projection method for find optimal transition matrix over l_1 norm space and return transition matrix between given two matrix\n",
    "def ProjectedGradient(RESPON, EXPLAN): \n",
    "    W=np.zeros((len(RESPON.columns), len(EXPLAN.columns)))\n",
    "    X=np.array(EXPLAN); Y=np.array(RESPON); Error=0\n",
    "    for i in range(len(RESPON.columns)): \n",
    "        W[i,:]=InitialSol(X, Y[:,i]) # Use LASSO to obtain an initial solution \n",
    "        k=0; g=Grad(X, Y[:,i], W[i,:])\n",
    "        FunOld=10;\n",
    "        W[i,:]=Project(W[i,:]-Alpha(X, Y[:,i], W[i,:], g)*g, 1)\n",
    "        FunNew=Fun(X, Y[:,i], W[i,:])\n",
    "        while abs(FunOld-FunNew) > 1e-10 and k<100:\n",
    "            FunOld=FunNew\n",
    "            g=Grad(X, Y[:,i], W[i,:])\n",
    "            xk=W[i,:]-Alpha(X, Y[:,i], W[i,:], g)*g\n",
    "            W[i,:]=Project(xk, 1)\n",
    "            FunNew=Fun(X, Y[:,i], W[i,:])\n",
    "            k=k+1\n",
    "        Error=Error+FunNew\n",
    "    return pd.DataFrame(W,columns=EXPLAN.columns, index=RESPON.columns)\n",
    "nEXP=pd.read_csv('NormalData.csv', index_col=0) #Load Normal expression data\n",
    "tEXP=pd.read_csv('TumorData.csv', index_col=0)  #Load Tumor expression data\n",
    "M=ProjectedGradient(tEXP, nEXP)                 #Find optimal transition matrix\n",
    "(M.T).to_csv('Transition_Matrix_M.csv')\n",
    "RP=(abs(M)).sum(axis=0).sort_values(ascending=False)  #Compute scores of regulatory potentials for genes\n",
    "RP.to_frame(name='RP Score').to_csv('Regulatory_Potential.csv')"
   ]
  },
  {
   "cell_type": "code",
   "execution_count": 40,
   "metadata": {
    "tags": []
   },
   "outputs": [],
   "source": [
    "nEXP=pd.read_csv('NormalData.csv', index_col=0) #Load Normal expression data\n",
    "tEXP=pd.read_csv('TumorData.csv', index_col=0)  #Load Tumor expression data\n",
    "M=ProjectedGradient(tEXP, nEXP)                 #Find optimal transition matrix\n",
    "(M.T).to_csv('Transition_Matrix_M.csv')\n",
    "RP=(abs(M)).sum(axis=0).sort_values(ascending=False)  #Compute scores of regulatory potentials for genes\n",
    "RP.to_frame(name='RP Score').to_csv('Regulatory_Potential.csv')"
   ]
  },
  {
   "cell_type": "code",
   "execution_count": null,
   "metadata": {},
   "outputs": [],
   "source": []
  }
 ],
 "metadata": {
  "kernelspec": {
   "display_name": "Python 3 (ipykernel)",
   "language": "python",
   "name": "python3"
  },
  "language_info": {
   "codemirror_mode": {
    "name": "ipython",
    "version": 3
   },
   "file_extension": ".py",
   "mimetype": "text/x-python",
   "name": "python",
   "nbconvert_exporter": "python",
   "pygments_lexer": "ipython3",
   "version": "3.9.7"
  }
 },
 "nbformat": 4,
 "nbformat_minor": 4
}
